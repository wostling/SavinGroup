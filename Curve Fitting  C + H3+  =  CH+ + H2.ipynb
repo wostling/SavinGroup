{
 "cells": [
  {
   "cell_type": "code",
   "execution_count": 8,
   "id": "58826471",
   "metadata": {},
   "outputs": [],
   "source": [
    "import io\n",
    "import numpy as np\n",
    "from scipy import optimize\n",
    "import pandas as pd\n",
    "import matplotlib.pyplot as plt\n",
    "import math\n",
    "%matplotlib qt"
   ]
  },
  {
   "cell_type": "code",
   "execution_count": 9,
   "id": "ebf09a17",
   "metadata": {},
   "outputs": [],
   "source": [
    "def original(T, a_0, a_12, a_1, b_12, b_1, b_32):\n",
    "    upper  = a_0 + (a_12)*(T**(1/2)) + a_1*T\n",
    "    lower = T**(1/6) + (b_12)*(T**(1/2)) + (b_1)*(T) + (b_32)*(T**(3/2))\n",
    "    value = upper/lower\n",
    "    return value"
   ]
  },
  {
   "cell_type": "code",
   "execution_count": 10,
   "id": "4d1bb586",
   "metadata": {},
   "outputs": [],
   "source": [
    "def new(T, a, b, gamma):\n",
    "    value = a * ((T/300)**b) * np.exp(-gamma/T)\n",
    "    return value"
   ]
  },
  {
   "cell_type": "code",
   "execution_count": 11,
   "id": "78d3ebab",
   "metadata": {},
   "outputs": [],
   "source": [
    "temps = np.logspace(0, 4, 3000)"
   ]
  },
  {
   "cell_type": "markdown",
   "id": "1a00a8c3",
   "metadata": {},
   "source": [
    " C + H3+  ->  CH+ + H2\n",
    " Measured from 72 k to 10^4 K"
   ]
  },
  {
   "cell_type": "code",
   "execution_count": 12,
   "id": "313adc39",
   "metadata": {},
   "outputs": [
    {
     "data": {
      "text/plain": [
       "array([1.00000000e+00, 1.00307586e+00, 1.00616118e+00, ...,\n",
       "       9.93876551e+03, 9.96933574e+03, 1.00000000e+04])"
      ]
     },
     "execution_count": 12,
     "metadata": {},
     "output_type": "execute_result"
    }
   ],
   "source": [
    "temps"
   ]
  },
  {
   "cell_type": "code",
   "execution_count": 13,
   "id": "18ec6d9f",
   "metadata": {},
   "outputs": [],
   "source": [
    "rates = []\n",
    "for temp in temps:\n",
    "    rate = original(temp, 1.0218E-09, 7.2733E-11, 5.9203E-14, 4.4914E-02, -2.6056E-04, 2.6397E-06)\n",
    "    rates.append(rate)"
   ]
  },
  {
   "cell_type": "code",
   "execution_count": 14,
   "id": "48f194b8",
   "metadata": {},
   "outputs": [],
   "source": [
    "plt.plot(temps, rates)\n",
    "plt.xscale(\"log\")\n",
    "plt.yscale(\"log\")"
   ]
  },
  {
   "cell_type": "code",
   "execution_count": 15,
   "id": "1ea37c22",
   "metadata": {},
   "outputs": [
    {
     "name": "stdout",
     "output_type": "stream",
     "text": [
      "[ 7.71813334e-10  3.58482490e-02 -6.54497243e-01]\n",
      "[1.24186718e-12 7.42127195e-04 8.34693347e-03]\n"
     ]
    }
   ],
   "source": [
    "popt, pcov = optimize.curve_fit(new, temps, rates, method=\"lm\")\n",
    "perr = np.sqrt(np.diag(pcov))\n",
    "print (popt)\n",
    "print (perr)"
   ]
  },
  {
   "cell_type": "code",
   "execution_count": 16,
   "id": "b0379138",
   "metadata": {},
   "outputs": [],
   "source": [
    "fit_rates = []\n",
    "for temp in temps:\n",
    "    fit_rate = new(temp, popt[0], popt[1], popt[2])\n",
    "    fit_rates.append(fit_rate)"
   ]
  },
  {
   "cell_type": "code",
   "execution_count": null,
   "id": "1aff1a67",
   "metadata": {},
   "outputs": [],
   "source": [
    "#plt.plot(temps, fit_rates, label = \"fit\")\n",
    "#plt.plot(temps, rates, label = \"original\")\n",
    "#num = float(fit_rates - rates)/float(rates)\n",
    "percent = []\n",
    "for char in range(len(fit_rates)):\n",
    "    num = (fit_rates[char] - rates[char])/rates[char]\n",
    "    percent.append(num)\n",
    "plt.plot(temps, percent)\n",
    "plt.xscale(\"log\")\n",
    "#plt.yscale(\"log\")\n",
    "plt.legend()"
   ]
  },
  {
   "cell_type": "code",
   "execution_count": 18,
   "id": "7304fd7d",
   "metadata": {},
   "outputs": [
    {
     "name": "stdout",
     "output_type": "stream",
     "text": [
      "[ 6.05580803e-10 -7.20058584e-02 -1.57173917e-01]\n",
      "[7.32495237e-13 4.43915850e-04 2.09456879e-03]\n",
      "[ 6.58007596e-10  1.18558086e-01 -1.69816656e+01]\n",
      "[5.07341157e-13 3.05720919e-04 1.78188538e-01]\n"
     ]
    }
   ],
   "source": [
    "#fitting 2 curves\n",
    "temps1 = np.logspace(0, 2, 1500)\n",
    "temps2 = np.logspace(2, 4, 1500)\n",
    "\n",
    "rates1 = []\n",
    "rates2 = []\n",
    "\n",
    "for temp1 in temps1:\n",
    "    rate1 = original(temp1, 1.0218E-09, 7.2733E-11, 5.9203E-14, 4.4914E-02, -2.6056E-04, 2.6397E-06)\n",
    "    rates1.append(rate1)\n",
    "\n",
    "for temp2 in temps2:\n",
    "    rate2 = original(temp2, 1.0218E-09, 7.2733E-11, 5.9203E-14, 4.4914E-02, -2.6056E-04, 2.6397E-06)\n",
    "    rates2.append(rate2)\n",
    "\n",
    "popt1, pcov1 = optimize.curve_fit(new, temps1, rates1, method=\"lm\")\n",
    "perr1 = np.sqrt(np.diag(pcov1))\n",
    "print (popt1)\n",
    "print (perr1)\n",
    "\n",
    "popt2, pcov2 = optimize.curve_fit(new, temps2, rates2, method=\"lm\")\n",
    "perr2 = np.sqrt(np.diag(pcov2))\n",
    "print (popt2)\n",
    "print (perr2)\n"
   ]
  },
  {
   "cell_type": "code",
   "execution_count": 96,
   "id": "edd0b7fc",
   "metadata": {},
   "outputs": [],
   "source": [
    "fit_rates1 = []\n",
    "for temp1 in temps1:\n",
    "    fit_rate1 = new(temp1, popt1[0], popt1[1], popt1[2])\n",
    "    fit_rates1.append(fit_rate1)\n",
    "    \n",
    "fit_rates2 = []\n",
    "for temp2 in temps2:\n",
    "    fit_rate2 = new(temp2, popt2[0], popt2[1], popt2[2])\n",
    "    fit_rates2.append(fit_rate2)"
   ]
  },
  {
   "cell_type": "code",
   "execution_count": 98,
   "id": "e335f832",
   "metadata": {},
   "outputs": [
    {
     "data": {
      "text/plain": [
       "<matplotlib.legend.Legend at 0x2097665bb50>"
      ]
     },
     "execution_count": 98,
     "metadata": {},
     "output_type": "execute_result"
    }
   ],
   "source": [
    "plt.plot(temps1, fit_rates1, label = \"fit1\")\n",
    "plt.plot(temps2, fit_rates2, label = \"fit2\")\n",
    "plt.plot(temps, rates, label = \"original\")\n",
    "plt.xscale(\"log\")\n",
    "plt.yscale(\"log\")\n",
    "plt.legend()"
   ]
  },
  {
   "cell_type": "code",
   "execution_count": 15,
   "id": "7f6b806c",
   "metadata": {},
   "outputs": [
    {
     "name": "stdout",
     "output_type": "stream",
     "text": [
      "[ 5.29383261e-10 -1.11228774e-01 -5.04713116e-02]\n",
      "[2.72598175e-13 1.42203834e-04 3.62869015e-04]\n",
      "[ 6.55013599e-10 -1.91617164e-02 -1.12962463e+00]\n",
      "[2.31495192e-13 2.67833507e-04 6.98802342e-03]\n",
      "[ 6.64182677e-10  1.04723454e-01 -1.43885024e+01]\n",
      "[1.81644628e-13 2.42335915e-04 6.56006102e-02]\n",
      "[7.56323508e-10 7.79803428e-02 9.11712799e+01]\n",
      "[1.90747607e-12 7.38902078e-04 2.04543796e+00]\n"
     ]
    }
   ],
   "source": [
    "#fitting 4 curves\n",
    "temps1 = np.logspace(0, 1, 1500)\n",
    "temps2 = np.logspace(1, 2, 1500)\n",
    "temps3 = np.logspace(2, 3, 1500)\n",
    "temps4 = np.logspace(3, 4, 1500)\n",
    "\n",
    "rates1 = []\n",
    "rates2 = []\n",
    "rates3 = []\n",
    "rates4 = []\n",
    "\n",
    "\n",
    "for temp1 in temps1:\n",
    "    rate1 = original(temp1, 1.0218E-09, 7.2733E-11, 5.9203E-14, 4.4914E-02, -2.6056E-04, 2.6397E-06)\n",
    "    rates1.append(rate1)\n",
    "for temp2 in temps2:\n",
    "    rate2 = original(temp2, 1.0218E-09, 7.2733E-11, 5.9203E-14, 4.4914E-02, -2.6056E-04, 2.6397E-06)\n",
    "    rates2.append(rate2)\n",
    "for temp3 in temps3:\n",
    "    rate3 = original(temp3, 1.0218E-09, 7.2733E-11, 5.9203E-14, 4.4914E-02, -2.6056E-04, 2.6397E-06)\n",
    "    rates3.append(rate3)\n",
    "for temp4 in temps4:\n",
    "    rate4 = original(temp4, 1.0218E-09, 7.2733E-11, 5.9203E-14, 4.4914E-02, -2.6056E-04, 2.6397E-06)\n",
    "    rates4.append(rate4)\n",
    "\n",
    "popt1, pcov1 = optimize.curve_fit(new, temps1, rates1, method=\"lm\")\n",
    "perr1 = np.sqrt(np.diag(pcov1))\n",
    "print (popt1)\n",
    "print (perr1)\n",
    "\n",
    "popt2, pcov2 = optimize.curve_fit(new, temps2, rates2, method=\"lm\")\n",
    "perr2 = np.sqrt(np.diag(pcov2))\n",
    "print (popt2)\n",
    "print (perr2)\n",
    "\n",
    "popt3, pcov3 = optimize.curve_fit(new, temps3, rates3, method=\"lm\")\n",
    "perr3 = np.sqrt(np.diag(pcov3))\n",
    "print (popt3)\n",
    "print (perr3)\n",
    "\n",
    "popt4, pcov4 = optimize.curve_fit(new, temps4, rates4, method=\"lm\")\n",
    "perr4 = np.sqrt(np.diag(pcov4))\n",
    "print (popt4)\n",
    "print (perr4)"
   ]
  },
  {
   "cell_type": "code",
   "execution_count": 16,
   "id": "7b176c40",
   "metadata": {},
   "outputs": [],
   "source": [
    "fit_rates1 = []\n",
    "for temp1 in temps1:\n",
    "    fit_rate1 = new(temp1, popt1[0], popt1[1], popt1[2])\n",
    "    fit_rates1.append(fit_rate1)\n",
    "    \n",
    "fit_rates2 = []\n",
    "for temp2 in temps2:\n",
    "    fit_rate2 = new(temp2, popt2[0], popt2[1], popt2[2])\n",
    "    fit_rates2.append(fit_rate2)\n",
    "\n",
    "fit_rates3 = []\n",
    "for temp3 in temps3:\n",
    "    fit_rate3 = new(temp3, popt3[0], popt3[1], popt3[2])\n",
    "    fit_rates3.append(fit_rate3)\n",
    "\n",
    "fit_rates4 = []\n",
    "for temp4 in temps4:\n",
    "    fit_rate4 = new(temp4, popt4[0], popt4[1], popt4[2])\n",
    "    fit_rates4.append(fit_rate4)"
   ]
  },
  {
   "cell_type": "code",
   "execution_count": 17,
   "id": "bffc07c9",
   "metadata": {},
   "outputs": [
    {
     "ename": "NameError",
     "evalue": "name 'fit_rates_1' is not defined",
     "output_type": "error",
     "traceback": [
      "\u001b[1;31m---------------------------------------------------------------------------\u001b[0m",
      "\u001b[1;31mNameError\u001b[0m                                 Traceback (most recent call last)",
      "Cell \u001b[1;32mIn[17], line 1\u001b[0m\n\u001b[1;32m----> 1\u001b[0m plt\u001b[38;5;241m.\u001b[39mplot(temps1, \u001b[43mfit_rates_1\u001b[49m, label \u001b[38;5;241m=\u001b[39m \u001b[38;5;124m\"\u001b[39m\u001b[38;5;124mfit1\u001b[39m\u001b[38;5;124m\"\u001b[39m)\n\u001b[0;32m      2\u001b[0m plt\u001b[38;5;241m.\u001b[39mplot(temps2, fit_rates2, label \u001b[38;5;241m=\u001b[39m \u001b[38;5;124m\"\u001b[39m\u001b[38;5;124mfit2\u001b[39m\u001b[38;5;124m\"\u001b[39m)\n\u001b[0;32m      3\u001b[0m plt\u001b[38;5;241m.\u001b[39mplot(temps3, fit_rates3, label \u001b[38;5;241m=\u001b[39m \u001b[38;5;124m\"\u001b[39m\u001b[38;5;124mfit3\u001b[39m\u001b[38;5;124m\"\u001b[39m)\n",
      "\u001b[1;31mNameError\u001b[0m: name 'fit_rates_1' is not defined"
     ]
    }
   ],
   "source": [
    "plt.plot(temps1, fit_rates_1, label = \"fit1\")\n",
    "plt.plot(temps2, fit_rates2, label = \"fit2\")\n",
    "plt.plot(temps3, fit_rates3, label = \"fit3\")\n",
    "plt.plot(temps4, fit_rates4, label = \"fit4\")\n",
    "#plt.plot(temps, rates, label = \"original\")\n",
    "plt.xscale(\"log\")\n",
    "plt.yscale(\"log\")\n",
    "plt.legend()"
   ]
  },
  {
   "cell_type": "code",
   "execution_count": 114,
   "id": "9a0d4618",
   "metadata": {},
   "outputs": [],
   "source": [
    "percent1 = []\n",
    "for char1 in range(len(fit_rates1)):\n",
    "    num1 = (fit_rates1[char1] - rates1[char1])/rates1[char1]\n",
    "    percent1.append(num1)\n",
    "percent2 = []\n",
    "for char2 in range(len(fit_rates2)):\n",
    "    num2 = (fit_rates2[char2] - rates2[char2])/rates2[char2]\n",
    "    percent2.append(num2)\n",
    "percent3 = []\n",
    "for char3 in range(len(fit_rates3)):\n",
    "    num3 = (fit_rates3[char3] - rates3[char3])/rates3[char3]\n",
    "    percent3.append(num3)\n",
    "percent4 = []\n",
    "for char4 in range(len(fit_rates4)):\n",
    "    num4 = (fit_rates4[char4] - rates4[char4])/rates4[char4]\n",
    "    percent4.append(num4)\n",
    "    \n",
    "plt.plot(temps1, percent1, label = \"fit1\")\n",
    "plt.plot(temps2, percent2, label = \"fit2\")\n",
    "plt.plot(temps3, percent3, label = \"fit3\")\n",
    "plt.plot(temps4, percent4, label = \"fit4\") \n",
    "plt.xscale(\"log\")"
   ]
  },
  {
   "cell_type": "code",
   "execution_count": null,
   "id": "d50499fc",
   "metadata": {},
   "outputs": [],
   "source": []
  }
 ],
 "metadata": {
  "kernelspec": {
   "display_name": "Python 3 (ipykernel)",
   "language": "python",
   "name": "python3"
  },
  "language_info": {
   "codemirror_mode": {
    "name": "ipython",
    "version": 3
   },
   "file_extension": ".py",
   "mimetype": "text/x-python",
   "name": "python",
   "nbconvert_exporter": "python",
   "pygments_lexer": "ipython3",
   "version": "3.10.9"
  }
 },
 "nbformat": 4,
 "nbformat_minor": 5
}
