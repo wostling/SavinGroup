{
 "cells": [
  {
   "cell_type": "code",
   "execution_count": 2,
   "id": "e5bbda7b",
   "metadata": {},
   "outputs": [],
   "source": [
    "import io\n",
    "import numpy as np\n",
    "from scipy import optimize\n",
    "import pandas as pd\n",
    "import matplotlib.pyplot as plt\n",
    "import math\n",
    "%matplotlib qt"
   ]
  },
  {
   "cell_type": "code",
   "execution_count": 3,
   "id": "b51b7d5b",
   "metadata": {},
   "outputs": [],
   "source": [
    "def original(T, a_0, a_12, a_1, b_12, b_1, b_32):\n",
    "    upper  = a_0 + (a_12)*(T**(1/2)) + a_1*T\n",
    "    lower = T**(1/6) + (b_12)*(T**(1/2)) + (b_1)*(T) + (b_32)*(T**(3/2))\n",
    "    value = upper/lower\n",
    "    return value"
   ]
  },
  {
   "cell_type": "code",
   "execution_count": 4,
   "id": "b73bd68f",
   "metadata": {},
   "outputs": [],
   "source": [
    "def new(T, a, b, gamma):\n",
    "    value = a * ((T/300)**b) * np.exp(-gamma/T)\n",
    "    return value"
   ]
  },
  {
   "cell_type": "code",
   "execution_count": 5,
   "id": "cc78a504",
   "metadata": {},
   "outputs": [],
   "source": [
    "temps = np.logspace(0, 4, 3000)"
   ]
  },
  {
   "cell_type": "markdown",
   "id": "86138c49",
   "metadata": {},
   "source": [
    " C + H3+  ->  CH2+ + H\n",
    " Measured from 72 k to 10^4 K"
   ]
  },
  {
   "cell_type": "code",
   "execution_count": 6,
   "id": "0cb17fcd",
   "metadata": {},
   "outputs": [
    {
     "data": {
      "text/plain": [
       "array([1.00000000e+00, 1.00307586e+00, 1.00616118e+00, ...,\n",
       "       9.93876551e+03, 9.96933574e+03, 1.00000000e+04])"
      ]
     },
     "execution_count": 6,
     "metadata": {},
     "output_type": "execute_result"
    }
   ],
   "source": [
    "temps"
   ]
  },
  {
   "cell_type": "code",
   "execution_count": 7,
   "id": "9c7e3055",
   "metadata": {},
   "outputs": [],
   "source": [
    "rates = []\n",
    "for temp in temps:\n",
    "    rate = original(temp, 8.5145E-10, 0, 0, 9.5666E-04, -4.4040E-05, 2.3496E-06)\n",
    "    rates.append(rate)"
   ]
  },
  {
   "cell_type": "code",
   "execution_count": 8,
   "id": "08fe723c",
   "metadata": {},
   "outputs": [],
   "source": [
    "plt.plot(temps, rates)\n",
    "plt.xscale(\"log\")\n",
    "plt.yscale(\"log\")"
   ]
  },
  {
   "cell_type": "code",
   "execution_count": 9,
   "id": "9f4327a6",
   "metadata": {},
   "outputs": [
    {
     "name": "stdout",
     "output_type": "stream",
     "text": [
      "[ 3.18662983e-10 -1.78650414e-01  4.97271568e-02]\n",
      "[2.26035107e-13 2.82551866e-04 2.09910946e-03]\n"
     ]
    }
   ],
   "source": [
    "popt, pcov = optimize.curve_fit(new, temps, rates, method=\"lm\")\n",
    "perr = np.sqrt(np.diag(pcov))\n",
    "print (popt)\n",
    "print (perr)"
   ]
  },
  {
   "cell_type": "code",
   "execution_count": 10,
   "id": "5f8099da",
   "metadata": {},
   "outputs": [],
   "source": [
    "fit_rates = []\n",
    "for temp in temps:\n",
    "    fit_rate = new(temp, popt[0], popt[1], popt[2])\n",
    "    fit_rates.append(fit_rate)"
   ]
  },
  {
   "cell_type": "code",
   "execution_count": 11,
   "id": "7f99f80b",
   "metadata": {},
   "outputs": [
    {
     "data": {
      "text/plain": [
       "<matplotlib.legend.Legend at 0x18013eab220>"
      ]
     },
     "execution_count": 11,
     "metadata": {},
     "output_type": "execute_result"
    }
   ],
   "source": [
    "plt.plot(temps, fit_rates, label = \"fit\")\n",
    "plt.plot(temps, rates, label = \"original\")\n",
    "plt.xscale(\"log\")\n",
    "plt.yscale(\"log\")\n",
    "plt.legend()"
   ]
  },
  {
   "cell_type": "code",
   "execution_count": 12,
   "id": "5c4f06e6",
   "metadata": {},
   "outputs": [
    {
     "name": "stderr",
     "output_type": "stream",
     "text": [
      "No artists with labels found to put in legend.  Note that artists whose label start with an underscore are ignored when legend() is called with no argument.\n"
     ]
    },
    {
     "data": {
      "text/plain": [
       "<matplotlib.legend.Legend at 0x1800ff2dcc0>"
      ]
     },
     "execution_count": 12,
     "metadata": {},
     "output_type": "execute_result"
    }
   ],
   "source": [
    "percent = []\n",
    "for char in range(len(fit_rates)):\n",
    "    num = (fit_rates[char] - rates[char])/rates[char]\n",
    "    percent.append(num)\n",
    "plt.plot(temps, percent)\n",
    "plt.xscale(\"log\")\n",
    "#plt.yscale(\"log\")\n",
    "plt.legend()"
   ]
  },
  {
   "cell_type": "code",
   "execution_count": 13,
   "id": "b54a5444",
   "metadata": {},
   "outputs": [
    {
     "name": "stdout",
     "output_type": "stream",
     "text": [
      "[ 3.26861968e-10 -1.68304797e-01  4.41413316e-03]\n",
      "[2.41077303e-14 2.93603670e-05 1.80545322e-04]\n",
      "[ 6.25759460e-10 -4.28319281e-01  3.66065039e+02]\n",
      "[3.34590043e-12 1.64561753e-03 3.98959649e+00]\n"
     ]
    }
   ],
   "source": [
    "#fitting 2 curves\n",
    "temps1 = np.logspace(0, 3, 1500)\n",
    "temps2 = np.logspace(3, 4, 1500)\n",
    "\n",
    "rates1 = []\n",
    "rates2 = []\n",
    "\n",
    "for temp1 in temps1:\n",
    "    rate1 = original(temp1, 8.5145E-10, 0, 0, 9.5666E-04, -4.4040E-05, 2.3496E-06)\n",
    "    rates1.append(rate1)\n",
    "\n",
    "for temp2 in temps2:\n",
    "    rate2 = original(temp2, 8.5145E-10, 0, 0, 9.5666E-04, -4.4040E-05, 2.3496E-06)\n",
    "    rates2.append(rate2)\n",
    "\n",
    "popt1, pcov1 = optimize.curve_fit(new, temps1, rates1, method=\"lm\")\n",
    "perr1 = np.sqrt(np.diag(pcov1))\n",
    "print (popt1)\n",
    "print (perr1)\n",
    "\n",
    "popt2, pcov2 = optimize.curve_fit(new, temps2, rates2, method=\"lm\")\n",
    "perr2 = np.sqrt(np.diag(pcov2))\n",
    "print (popt2)\n",
    "print (perr2)\n"
   ]
  },
  {
   "cell_type": "code",
   "execution_count": 67,
   "id": "d890e735",
   "metadata": {},
   "outputs": [],
   "source": [
    "fit_rates1 = []\n",
    "for temp1 in temps1:\n",
    "    fit_rate1 = new(temp1, popt1[0], popt1[1], popt1[2])\n",
    "    fit_rates1.append(fit_rate1)\n",
    "    \n",
    "fit_rates2 = []\n",
    "for temp2 in temps2:\n",
    "    fit_rate2 = new(temp2, popt2[0], popt2[1], popt2[2])\n",
    "    fit_rates2.append(fit_rate2)"
   ]
  },
  {
   "cell_type": "code",
   "execution_count": 68,
   "id": "be3051ea",
   "metadata": {},
   "outputs": [
    {
     "data": {
      "text/plain": [
       "<matplotlib.legend.Legend at 0x220c7d74cd0>"
      ]
     },
     "execution_count": 68,
     "metadata": {},
     "output_type": "execute_result"
    }
   ],
   "source": [
    "plt.plot(temps1, fit_rates1, label = \"fit1\")\n",
    "plt.plot(temps2, fit_rates2, label = \"fit2\")\n",
    "plt.plot(temps, rates, label = \"original\")\n",
    "plt.xscale(\"log\")\n",
    "plt.yscale(\"log\")\n",
    "plt.legend()"
   ]
  },
  {
   "cell_type": "code",
   "execution_count": 70,
   "id": "73b2482c",
   "metadata": {},
   "outputs": [],
   "source": [
    "percent1 = []\n",
    "for char1 in range(len(fit_rates1)):\n",
    "    num1 = (fit_rates1[char1] - rates1[char1])/rates1[char1]\n",
    "    percent1.append(num1)\n",
    "percent2 = []\n",
    "for char2 in range(len(fit_rates2)):\n",
    "    num2 = (fit_rates2[char2] - rates2[char2])/rates2[char2]\n",
    "    percent2.append(num2)\n",
    "\n",
    "plt.plot(temps1, percent1, label = \"fit1\")\n",
    "plt.plot(temps2, percent2, label = \"fit2\")\n",
    "plt.xscale(\"log\")"
   ]
  },
  {
   "cell_type": "code",
   "execution_count": 41,
   "id": "5ac34b4c",
   "metadata": {},
   "outputs": [
    {
     "name": "stdout",
     "output_type": "stream",
     "text": [
      "[ 5.69260391e-10 -7.19149586e-02 -7.67757134e-02]\n",
      "[4.21129260e-13 2.05015105e-04 5.28164060e-04]\n",
      "[ 7.59711154e-10  5.22105322e-02 -1.51804569e+00]\n",
      "[3.31928299e-13 3.37157796e-04 8.96061663e-03]\n",
      "[ 7.75811083e-10  1.92053635e-01 -1.59316481e+01]\n",
      "[1.89954261e-13 2.11792047e-04 5.89002792e-02]\n",
      "[1.29157987e-09 2.19973359e-02 3.14332647e+02]\n",
      "[6.70174766e-12 1.51763201e-03 4.24845929e+00]\n"
     ]
    }
   ],
   "source": [
    "#fitting 4 curves\n",
    "temps1 = np.logspace(0, 1, 1500)\n",
    "temps2 = np.logspace(1, 2, 1500)\n",
    "temps3 = np.logspace(2, 3, 1500)\n",
    "temps4 = np.logspace(3, 4, 1500)\n",
    "\n",
    "rates1 = []\n",
    "rates2 = []\n",
    "rates3 = []\n",
    "rates4 = []\n",
    "\n",
    "\n",
    "for temp1 in temps1:\n",
    "    rate1 = original(temp1, 8.5145E-10, 0, 0, 9.5666E-04, -4.4040E-05, 2.3496E-06)\n",
    "    rates1.append(rate1)\n",
    "for temp2 in temps2:\n",
    "    rate2 = original(temp2, 8.5145E-10, 0, 0, 9.5666E-04, -4.4040E-05, 2.3496E-06)\n",
    "    rates2.append(rate2)\n",
    "for temp3 in temps3:\n",
    "    rate3 = original(temp3, 8.5145E-10, 0, 0, 9.5666E-04, -4.4040E-05, 2.3496E-06)\n",
    "    rates3.append(rate3)\n",
    "for temp4 in temps4:\n",
    "    rate4 = original(temp4, 8.5145E-10, 0, 0, 9.5666E-04, -4.4040E-05, 2.3496E-06)\n",
    "    rates4.append(rate4)\n",
    "\n",
    "popt1, pcov1 = optimize.curve_fit(new, temps1, rates1, method=\"lm\")\n",
    "perr1 = np.sqrt(np.diag(pcov1))\n",
    "print (popt1)\n",
    "print (perr1)\n",
    "\n",
    "popt2, pcov2 = optimize.curve_fit(new, temps2, rates2, method=\"lm\")\n",
    "perr2 = np.sqrt(np.diag(pcov2))\n",
    "print (popt2)\n",
    "print (perr2)\n",
    "\n",
    "popt3, pcov3 = optimize.curve_fit(new, temps3, rates3, method=\"lm\")\n",
    "perr3 = np.sqrt(np.diag(pcov3))\n",
    "print (popt3)\n",
    "print (perr3)\n",
    "\n",
    "popt4, pcov4 = optimize.curve_fit(new, temps4, rates4, method=\"lm\")\n",
    "perr4 = np.sqrt(np.diag(pcov4))\n",
    "print (popt4)\n",
    "print (perr4)"
   ]
  },
  {
   "cell_type": "code",
   "execution_count": 42,
   "id": "2c56d023",
   "metadata": {},
   "outputs": [],
   "source": [
    "fit_rates1 = []\n",
    "for temp1 in temps1:\n",
    "    fit_rate1 = new(temp1, popt1[0], popt1[1], popt1[2])\n",
    "    fit_rates1.append(fit_rate1)\n",
    "    \n",
    "fit_rates2 = []\n",
    "for temp2 in temps2:\n",
    "    fit_rate2 = new(temp2, popt2[0], popt2[1], popt2[2])\n",
    "    fit_rates2.append(fit_rate2)\n",
    "\n",
    "fit_rates3 = []\n",
    "for temp3 in temps3:\n",
    "    fit_rate3 = new(temp3, popt3[0], popt3[1], popt3[2])\n",
    "    fit_rates3.append(fit_rate3)\n",
    "\n",
    "fit_rates4 = []\n",
    "for temp4 in temps4:\n",
    "    fit_rate4 = new(temp4, popt4[0], popt4[1], popt4[2])\n",
    "    fit_rates4.append(fit_rate4)"
   ]
  },
  {
   "cell_type": "code",
   "execution_count": 43,
   "id": "3a7cb21b",
   "metadata": {},
   "outputs": [
    {
     "data": {
      "text/plain": [
       "<matplotlib.legend.Legend at 0x220c42a4b50>"
      ]
     },
     "execution_count": 43,
     "metadata": {},
     "output_type": "execute_result"
    }
   ],
   "source": [
    "plt.plot(temps1, fit_rates1, label = \"fit1\")\n",
    "plt.plot(temps2, fit_rates2, label = \"fit2\")\n",
    "plt.plot(temps3, fit_rates3, label = \"fit3\")\n",
    "plt.plot(temps4, fit_rates4, label = \"fit4\")\n",
    "plt.plot(temps, rates, label = \"original\")\n",
    "plt.xscale(\"log\")\n",
    "plt.yscale(\"log\")\n",
    "plt.legend()"
   ]
  }
 ],
 "metadata": {
  "kernelspec": {
   "display_name": "Python 3 (ipykernel)",
   "language": "python",
   "name": "python3"
  },
  "language_info": {
   "codemirror_mode": {
    "name": "ipython",
    "version": 3
   },
   "file_extension": ".py",
   "mimetype": "text/x-python",
   "name": "python",
   "nbconvert_exporter": "python",
   "pygments_lexer": "ipython3",
   "version": "3.10.9"
  }
 },
 "nbformat": 4,
 "nbformat_minor": 5
}
