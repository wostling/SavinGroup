{
 "cells": [
  {
   "cell_type": "code",
   "execution_count": 56,
   "id": "9f91b3f9",
   "metadata": {},
   "outputs": [],
   "source": [
    "import math\n",
    "def energy(T):\n",
    "    #using equation 8 from https://pubs.aip.org/aip/jcp/article/135/10/104310/983384/First-principles-simulation-of-molecular\n",
    "    #27.211 - hartree energy\n",
    "    kB = 8.617333262e-5\n",
    "    a = 0.00157426\n",
    "    b = 0.000132273\n",
    "    c = -6.15622e-6\n",
    "    d = 0.00157430\n",
    "    alpha = 269.410\n",
    "    H = 27.211386245981\n",
    "    internal = kB * (T**2) * ((a*math.exp(-b*T) ) + c) + H*d*math.exp(-alpha/T)\n",
    "    return internal"
   ]
  },
  {
   "cell_type": "code",
   "execution_count": null,
   "id": "7af4f71b",
   "metadata": {},
   "outputs": [],
   "source": []
  },
  {
   "cell_type": "code",
   "execution_count": 57,
   "id": "b05503ad",
   "metadata": {},
   "outputs": [
    {
     "data": {
      "text/plain": [
       "0.6442849290431985"
      ]
     },
     "execution_count": 57,
     "metadata": {},
     "output_type": "execute_result"
    }
   ],
   "source": [
    "energy(2500)\n"
   ]
  },
  {
   "cell_type": "code",
   "execution_count": 58,
   "id": "f7b8b351",
   "metadata": {},
   "outputs": [
    {
     "data": {
      "text/plain": [
       "0.8554084174147887"
      ]
     },
     "execution_count": 58,
     "metadata": {},
     "output_type": "execute_result"
    }
   ],
   "source": [
    "energy(3000)"
   ]
  },
  {
   "cell_type": "code",
   "execution_count": 59,
   "id": "89d1824e",
   "metadata": {},
   "outputs": [
    {
     "data": {
      "text/plain": [
       "0.6646639621488089"
      ]
     },
     "execution_count": 59,
     "metadata": {},
     "output_type": "execute_result"
    }
   ],
   "source": [
    "energy(2550)"
   ]
  },
  {
   "cell_type": "code",
   "execution_count": 60,
   "id": "1501f5a8",
   "metadata": {},
   "outputs": [
    {
     "data": {
      "text/plain": [
       "0.05084624866750246"
      ]
     },
     "execution_count": 60,
     "metadata": {},
     "output_type": "execute_result"
    }
   ],
   "source": [
    "math.exp(-1.98/energy(2550))"
   ]
  }
 ],
 "metadata": {
  "kernelspec": {
   "display_name": "Python 3 (ipykernel)",
   "language": "python",
   "name": "python3"
  },
  "language_info": {
   "codemirror_mode": {
    "name": "ipython",
    "version": 3
   },
   "file_extension": ".py",
   "mimetype": "text/x-python",
   "name": "python",
   "nbconvert_exporter": "python",
   "pygments_lexer": "ipython3",
   "version": "3.10.9"
  }
 },
 "nbformat": 4,
 "nbformat_minor": 5
}
