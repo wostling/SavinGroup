{
 "cells": [
  {
   "cell_type": "code",
   "execution_count": 59,
   "id": "e4612731",
   "metadata": {},
   "outputs": [],
   "source": [
    "import io\n",
    "import numpy as np\n",
    "from scipy import optimize\n",
    "import pandas as pd\n",
    "import matplotlib.pyplot as plt\n",
    "import math\n",
    "from lmfit import minimize, Parameters\n",
    "#%matplotlib qt\n",
    "%matplotlib inline"
   ]
  },
  {
   "cell_type": "code",
   "execution_count": 60,
   "id": "ff73fce7",
   "metadata": {},
   "outputs": [],
   "source": [
    "def original(T, a_0, a_12, a_1, b_12, b_1, b_32):\n",
    "    upper  = a_0 + (a_12)*(T**(1/2)) + a_1*T\n",
    "    lower = T**(1/6) + (b_12)*(T**(1/2)) + (b_1)*(T) + (b_32)*(T**(3/2))\n",
    "    value = upper/lower\n",
    "    return value * 10000000000000\n",
    "\n",
    "def new(T, a, b, gamma):\n",
    "    value = a * ((T/300)**b) * np.exp(-gamma/T)\n",
    "    return value * 10000000000000\n",
    "\n",
    "def residual(params, temps, rates):\n",
    "    a = params['a']\n",
    "    b = params['b']\n",
    "    gamma = params['gamma']\n",
    "    model = a * ((temps/300)**b) * np.exp(-gamma/temps)*10000000000000\n",
    "    return (temps-model)"
   ]
  },
  {
   "cell_type": "markdown",
   "id": "600b8073",
   "metadata": {},
   "source": [
    "C + H3+ -> CH+ + H2 Measured from 72 k to 10^4 K"
   ]
  },
  {
   "cell_type": "code",
   "execution_count": 61,
   "id": "ba81f60d",
   "metadata": {},
   "outputs": [],
   "source": [
    "temps = np.logspace(0, 4, 30000)\n",
    "rates = []\n",
    "for temp in temps:\n",
    "    rate = original(temp, 1.0218E-09, 7.2733E-11, 5.9203E-14, 4.4914E-02, -2.6056E-04, 2.6397E-06)\n",
    "    rates.append(rate)"
   ]
  },
  {
   "cell_type": "code",
   "execution_count": 62,
   "id": "75a34a30",
   "metadata": {},
   "outputs": [],
   "source": [
    "params = Parameters()\n",
    "params.add('a', value= 7.71813334e-10)\n",
    "params.add('b', value=3.58482490e-02)\n",
    "params.add('gamma', value=-6.54497243e-01)"
   ]
  },
  {
   "cell_type": "code",
   "execution_count": 63,
   "id": "6e099588",
   "metadata": {},
   "outputs": [],
   "source": [
    "out = minimize(residual, params, args=(temps, rates))"
   ]
  },
  {
   "cell_type": "code",
   "execution_count": 64,
   "id": "cdb20faf",
   "metadata": {},
   "outputs": [
    {
     "data": {
      "text/html": [
       "<h2>Fit Result</h2> <table class=\"jp-toc-ignore\"><caption class=\"jp-toc-ignore\">Fit Statistics</caption><tr><td style='text-align:left'>fitting method</td><td style='text-align:right'>leastsq</td></tr><tr><td style='text-align:left'># function evals</td><td style='text-align:right'>51</td></tr><tr><td style='text-align:left'># data points</td><td style='text-align:right'>30000</td></tr><tr><td style='text-align:left'># variables</td><td style='text-align:right'>3</td></tr><tr><td style='text-align:left'>chi-square</td><td style='text-align:right'> 1.3457e-14</td></tr><tr><td style='text-align:left'>reduced chi-square</td><td style='text-align:right'> 4.4861e-19</td></tr><tr><td style='text-align:left'>Akaike info crit.</td><td style='text-align:right'>-1267441.15</td></tr><tr><td style='text-align:left'>Bayesian info crit.</td><td style='text-align:right'>-1267416.22</td></tr></table><table class=\"jp-toc-ignore\"><caption>Parameters</caption><tr><th style='text-align:left'>name</th><th style='text-align:left'>value</th><th style='text-align:left'>standard error</th><th style='text-align:left'>relative error</th><th style='text-align:left'>initial value</th><th style='text-align:left'>min</th><th style='text-align:left'>max</th><th style='text-align:right'>vary</th></tr><tr><td style='text-align:left'>a</td><td style='text-align:left'> 3.0000e-11</td><td style='text-align:left'> 3.0441e-25</td><td style='text-align:left'>(0.00%)</td><td style='text-align:left'>7.71813334e-10</td><td style='text-align:left'>       -inf</td><td style='text-align:left'>        inf</td><td style='text-align:right'>True</td></tr><tr><td style='text-align:left'>b</td><td style='text-align:left'> 1.00000000</td><td style='text-align:left'> 3.3261e-15</td><td style='text-align:left'>(0.00%)</td><td style='text-align:left'>0.035848249</td><td style='text-align:left'>       -inf</td><td style='text-align:left'>        inf</td><td style='text-align:right'>True</td></tr><tr><td style='text-align:left'>gamma</td><td style='text-align:left'>-8.8976e-10</td><td style='text-align:left'> 5.3274e-13</td><td style='text-align:left'>(0.06%)</td><td style='text-align:left'>-0.654497243</td><td style='text-align:left'>       -inf</td><td style='text-align:left'>        inf</td><td style='text-align:right'>True</td></tr></table><table class=\"jp-toc-ignore\"><caption>Correlations (unreported values are < 0.100)</caption><tr><th style='text-align:left'>Parameter1</th><th style='text-align:left'>Parameter 2</th><th style='text-align:right'>Correlation</th></tr><tr><td style='text-align:left'>a</td><td style='text-align:left'>b</td><td style='text-align:right'>-0.9864</td></tr></table>"
      ],
      "text/plain": [
       "<lmfit.minimizer.MinimizerResult at 0x1def4f8a830>"
      ]
     },
     "execution_count": 64,
     "metadata": {},
     "output_type": "execute_result"
    }
   ],
   "source": [
    "out"
   ]
  },
  {
   "cell_type": "code",
   "execution_count": 57,
   "id": "6d16765f",
   "metadata": {},
   "outputs": [],
   "source": [
    "fit_rates = []\n",
    "for temp in temps:\n",
    "    fit_rate = new(temp, 3.0000e-08,1.00000000, -2.0308e-09)\n",
    "    fit_rates.append(fit_rate)"
   ]
  },
  {
   "cell_type": "code",
   "execution_count": 58,
   "id": "ec5916bb",
   "metadata": {},
   "outputs": [
    {
     "data": {
      "text/plain": [
       "<matplotlib.legend.Legend at 0x1def4f8a1a0>"
      ]
     },
     "execution_count": 58,
     "metadata": {},
     "output_type": "execute_result"
    },
    {
     "data": {
      "image/png": "[encoded data removed]",
      "text/plain": [
       "<Figure size 640x480 with 1 Axes>"
      ]
     },
     "metadata": {},
     "output_type": "display_data"
    }
   ],
   "source": [
    "plt.plot(temps, fit_rates, label = \"fit\")\n",
    "plt.plot(temps, rates, label = \"original\")\n",
    "plt.legend()"
   ]
  }
 ],
 "metadata": {
  "kernelspec": {
   "display_name": "Python 3 (ipykernel)",
   "language": "python",
   "name": "python3"
  },
  "language_info": {
   "codemirror_mode": {
    "name": "ipython",
    "version": 3
   },
   "file_extension": ".py",
   "mimetype": "text/x-python",
   "name": "python",
   "nbconvert_exporter": "python",
   "pygments_lexer": "ipython3",
   "version": "3.10.9"
  }
 },
 "nbformat": 4,
 "nbformat_minor": 5
}
